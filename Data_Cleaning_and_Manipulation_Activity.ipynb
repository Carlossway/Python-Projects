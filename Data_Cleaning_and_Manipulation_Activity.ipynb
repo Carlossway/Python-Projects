{
 "cells": [
  {
   "cell_type": "markdown",
   "id": "a159a478",
   "metadata": {},
   "source": [
    "# Data Cleaning and Manipulation Activity\n",
    "In this activity, you'll clean and prepare two datasets, **Product Inventory** and **Sales Data**, for analysis. "
   ]
  },
  {
   "cell_type": "markdown",
   "id": "fca58799",
   "metadata": {},
   "source": [
    "## Task 1: Data Import\n",
    "1. Import the datasets.\n",
    "    - For the CSV file: Use read_csv. \n",
    "    - For the Excel file: Use read_excel.\n",
    "2. Inspects the structure of the datasets."
   ]
  },
  {
   "cell_type": "code",
   "execution_count": 2,
   "id": "4601bee6",
   "metadata": {},
   "outputs": [
    {
     "name": "stdout",
     "output_type": "stream",
     "text": [
      "Sales Data Info:\n",
      "<class 'pandas.core.frame.DataFrame'>\n",
      "RangeIndex: 5 entries, 0 to 4\n",
      "Data columns (total 5 columns):\n",
      " #   Column      Non-Null Count  Dtype  \n",
      "---  ------      --------------  -----  \n",
      " 0   SaleID      5 non-null      int64  \n",
      " 1   Product_ID  5 non-null      int64  \n",
      " 2   Quantity    5 non-null      int64  \n",
      " 3   Price       4 non-null      float64\n",
      " 4   SaleDate    5 non-null      object \n",
      "dtypes: float64(1), int64(3), object(1)\n",
      "memory usage: 332.0+ bytes\n",
      "None\n",
      "   SaleID  Product_ID  Quantity  Price    SaleDate\n",
      "0       1         101         2  19.99  2024-11-01\n",
      "1       2         102         1  29.99  2024-11-02\n",
      "2       3         103         3    NaN  2024-11-03\n",
      "3       4         101         5  19.99  2024-11-04\n",
      "4       5         104         2  39.99  2024-11-05\n",
      "\n",
      "Inventory Data Info:\n",
      "<class 'pandas.core.frame.DataFrame'>\n",
      "RangeIndex: 5 entries, 0 to 4\n",
      "Data columns (total 3 columns):\n",
      " #   Column       Non-Null Count  Dtype \n",
      "---  ------       --------------  ----- \n",
      " 0   ProductID    5 non-null      int64 \n",
      " 1   ProductName  5 non-null      object\n",
      " 2   Stock        5 non-null      int64 \n",
      "dtypes: int64(2), object(1)\n",
      "memory usage: 252.0+ bytes\n",
      "None\n",
      "   ProductID    ProductName  Stock\n",
      "0        101       Widget A     10\n",
      "1        102       Gadget B      5\n",
      "2        103  Thingamajig C      7\n",
      "3        104    Doohickey D      8\n",
      "4        105  Contraption E      3\n"
     ]
    }
   ],
   "source": [
    "\n",
    "# Import necessary libraries\n",
    "import pandas as pd  # Pandas library is essential for data manipulation\n",
    "\n",
    "# Task 1: Import the datasets\n",
    "# TODO Import the sales data (../data/sales_data.csv)\n",
    "sales_data =  pd.read_csv('../data/sales_data.csv') # Load the sales data CSV file\n",
    "\n",
    "# TODO Import the product inventory data (../data/product_inventory.xlsx)\n",
    "inventory_data = pd.read_excel('../data/product_inventory.xlsx') # Load the inventory data Excel file\n",
    "\n",
    "# Inspect the sales data\n",
    "print(\"Sales Data Info:\")\n",
    "print(sales_data.info())  # Inspect structure and data types of sales data\n",
    "print(sales_data.head())  # View the first few rows of sales data\n",
    "# print(sales_data) # if you want to see the whole data set\n",
    "\n",
    "# Inspect the inventory data\n",
    "print(\"\\nInventory Data Info:\")\n",
    "print(inventory_data.info())  # Inspect structure and data types of inventory data\n",
    "print(inventory_data.head())  # View the first few rows of inventory data\n",
    "# print(inventory_data) # if you want to see the whole data set"
   ]
  },
  {
   "cell_type": "markdown",
   "id": "0f82c788",
   "metadata": {},
   "source": [
    "## Task 2: Data Cleaning\n",
    "1. Clean the data.\n",
    "\n",
    "    - When cleaning data, look incosistent format issues and consider the appropriate methods to address them.\n",
    "    - Focus on making the datasets as complete and compatible as possible before moving to the next step. \n",
    "    - Test your work by inspecting the datasets after cleaning.\n",
    "\n",
    "**Checklist:**\n",
    "\n",
    "-   Have you checked for and handled missing values?\n",
    "-   Have you removed duplicate rows if necessary?\n",
    "-   Are all columns in the correct format?\n",
    "-   Are column names consistent across datasets?"
   ]
  },
  {
   "cell_type": "code",
   "execution_count": 4,
   "id": "5fc1892e",
   "metadata": {},
   "outputs": [
    {
     "name": "stdout",
     "output_type": "stream",
     "text": [
      "\n",
      "Cleaned Sales Data:\n",
      "   SaleID  Product_ID  Quantity  Price    SaleDate\n",
      "0       1         101         2  19.99  2024-11-01\n",
      "1       2         102         1  29.99  2024-11-02\n",
      "2       3         103         3  27.49  2024-11-03\n",
      "3       4         101         5  19.99  2024-11-04\n",
      "4       5         104         2  39.99  2024-11-05\n",
      "\n",
      "Cleaned Inventory Data:\n",
      "   Product_ID    ProductName  Stock\n",
      "0         101       widget a     10\n",
      "1         102       gadget b      5\n",
      "2         103  thingamajig c      7\n",
      "3         104    doohickey d      8\n",
      "4         105  contraption e      3\n"
     ]
    }
   ],
   "source": [
    "\n",
    "# Task 2: Data Cleaning\n",
    "# TODO: Clean the data\n",
    "sales_data[\"Price\"] = sales_data[\"Price\"].fillna(sales_data[\"Price\"].mean())\n",
    "\n",
    "sales_data = sales_data.drop_duplicates()\n",
    "inventory_data = inventory_data.drop_duplicates()\n",
    "inventory_data = inventory_data.rename(columns={\"ProductID\": \"Product_ID\"})\n",
    "inventory_data[\"ProductName\"] = inventory_data[\"ProductName\"].str.strip().str.lower()\n",
    "\n",
    "# Verify cleaning steps\n",
    "print(\"\\nCleaned Sales Data:\")\n",
    "print(sales_data.head())\n",
    "print(\"\\nCleaned Inventory Data:\")\n",
    "print(inventory_data.head())\n",
    "    "
   ]
  },
  {
   "cell_type": "markdown",
   "id": "81c72810",
   "metadata": {},
   "source": [
    "## Task 3: Data Merging\n",
    "1. Merge the sales and inventory data."
   ]
  },
  {
   "cell_type": "code",
   "execution_count": 5,
   "id": "c5eafc30",
   "metadata": {},
   "outputs": [
    {
     "name": "stdout",
     "output_type": "stream",
     "text": [
      "\n",
      "Merged Data Info:\n",
      "<class 'pandas.core.frame.DataFrame'>\n",
      "RangeIndex: 5 entries, 0 to 4\n",
      "Data columns (total 7 columns):\n",
      " #   Column       Non-Null Count  Dtype  \n",
      "---  ------       --------------  -----  \n",
      " 0   SaleID       5 non-null      int64  \n",
      " 1   Product_ID   5 non-null      int64  \n",
      " 2   Quantity     5 non-null      int64  \n",
      " 3   Price        5 non-null      float64\n",
      " 4   SaleDate     5 non-null      object \n",
      " 5   ProductName  5 non-null      object \n",
      " 6   Stock        5 non-null      int64  \n",
      "dtypes: float64(1), int64(4), object(2)\n",
      "memory usage: 412.0+ bytes\n",
      "None\n",
      "   SaleID  Product_ID  Quantity  Price    SaleDate    ProductName  Stock\n",
      "0       1         101         2  19.99  2024-11-01       widget a     10\n",
      "1       2         102         1  29.99  2024-11-02       gadget b      5\n",
      "2       3         103         3  27.49  2024-11-03  thingamajig c      7\n",
      "3       4         101         5  19.99  2024-11-04       widget a     10\n",
      "4       5         104         2  39.99  2024-11-05    doohickey d      8\n"
     ]
    }
   ],
   "source": [
    "\n",
    "# Task 3: Data Merging\n",
    "# Merge sales and inventory data\n",
    "# TODO: Merge the datasets. Replace ColumnName with the key column name \n",
    "merged_data = pd.merge(sales_data, inventory_data, on=\"Product_ID\", how=\"left\")\n",
    "\n",
    "\n",
    "# Inspect merged data\n",
    "print(\"\\nMerged Data Info:\")\n",
    "print(merged_data.info())\n",
    "print(merged_data.head())\n",
    "    "
   ]
  },
  {
   "cell_type": "markdown",
   "id": "f01196fe",
   "metadata": {},
   "source": [
    "## Task 4: Group and Aggregate Data\n",
    "1. Summarise the sales data by grouping it based on the product names and calculating the total quantities sold and total prices for each product.\n",
    "\n",
    "    - Identify the column that will act as the group.\n",
    "    - Decide on the aggregation functions to apply for other columns."
   ]
  },
  {
   "cell_type": "code",
   "execution_count": 6,
   "id": "3e13f256",
   "metadata": {},
   "outputs": [
    {
     "name": "stdout",
     "output_type": "stream",
     "text": [
      "\n",
      "Grouped Data (Total Sales per Product):\n",
      "               Quantity  Price\n",
      "ProductName                   \n",
      "doohickey d           2  39.99\n",
      "gadget b              1  29.99\n",
      "thingamajig c         3  27.49\n",
      "widget a              7  39.98\n"
     ]
    }
   ],
   "source": [
    "\n",
    "# Task 4: Group and Aggregate Data\n",
    "# Group and aggregate data\n",
    "# TODO: Group by products names and calculate total quantities sold and prices for each product.\n",
    "grouped_data = merged_data.groupby('ProductName').agg({'Quantity': 'sum', 'Price': 'sum'}) \n",
    "print(\"\\nGrouped Data (Total Sales per Product):\")\n",
    "print(grouped_data)\n",
    "    "
   ]
  },
  {
   "cell_type": "markdown",
   "id": "c2432cab",
   "metadata": {},
   "source": [
    "## Task 5: Pivot Table\n",
    "\n",
    "1. Create a table that summarises the quantity of products sold on each date, with product names as rows and dates as columns.\n",
    "\n",
    "    - Think about which columns will serve as the `rows` (index) and columns in your table.\n",
    "    - Identify the `values` you want to summarise and how they should be aggregated (e.g., summed up)."
   ]
  },
  {
   "cell_type": "code",
   "execution_count": 8,
   "id": "a9abbcdc",
   "metadata": {},
   "outputs": [
    {
     "name": "stdout",
     "output_type": "stream",
     "text": [
      "\n",
      "Pivot Table (Sales by Product and Date):\n",
      "SaleDate      2024-11-01 2024-11-02 2024-11-03 2024-11-04 2024-11-05\n",
      "ProductName                                                         \n",
      "doohickey d                                                      2.0\n",
      "gadget b                        1.0                                 \n",
      "thingamajig c                              3.0                      \n",
      "widget a             2.0                              5.0           \n"
     ]
    }
   ],
   "source": [
    "# Task 5: Pivot Table\n",
    "# Create a pivot table\n",
    "# TODO: Create a pivot table to summarise the quantity of products sold on each date, with product names as rows and dates as columns.\n",
    "pivot_table = merged_data.pivot_table(index='ProductName', columns='SaleDate', values='Quantity', aggfunc='sum')  # Define index, columns, values, and aggfunc\n",
    "# Replace NaN values with empty strings\n",
    "pivot_table = pivot_table.fillna('')\n",
    "print(\"\\nPivot Table (Sales by Product and Date):\")\n",
    "print(pivot_table)"
   ]
  },
  {
   "cell_type": "markdown",
   "id": "b296e188",
   "metadata": {},
   "source": [
    "Your grouped data and pivot table are expected to look as follows:\n",
    "\n",
    "\n",
    "### Grouped Data (Total Sales per Product)\n",
    "\n",
    "| Product        | Quantity | Price  |\n",
    "|----------------|----------|--------|\n",
    "| Doohickey D    | 2        | 39.99  |\n",
    "| Gadget B       | 1        | 29.99  |\n",
    "| Thingamajig C  | 3        | 27.49  |\n",
    "| Widget A       | 7        | 39.98  |\n",
    "\n",
    "### Pivot Table (Sales by Product and Date)\n",
    "\n",
    "| Product        | 2024-11-01 | 2024-11-02 | 2024-11-03 | 2024-11-04 | 2024-11-05 |\n",
    "|----------------|------------|------------|------------|------------|------------|\n",
    "| Doohickey D    |            |            |            |            | 2.0        |\n",
    "| Gadget B       |            | 1.0        |            |            |            |\n",
    "| Thingamajig C  |            |            | 3.0        |            |            |\n",
    "| Widget A       | 2.0        |            |            | 5.0        |            |"
   ]
  }
 ],
 "metadata": {
  "kernelspec": {
   "display_name": ".venv",
   "language": "python",
   "name": "python3"
  },
  "language_info": {
   "codemirror_mode": {
    "name": "ipython",
    "version": 3
   },
   "file_extension": ".py",
   "mimetype": "text/x-python",
   "name": "python",
   "nbconvert_exporter": "python",
   "pygments_lexer": "ipython3",
   "version": "3.12.8"
  }
 },
 "nbformat": 4,
 "nbformat_minor": 5
}
