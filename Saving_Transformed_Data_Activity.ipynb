{
 "cells": [
  {
   "cell_type": "markdown",
   "id": "fbff26b4",
   "metadata": {},
   "source": [
    "# Saving Transformed Data\n",
    "In this notebook, we'll explore various ways to save our transformed DataFrame after cleaning and processing."
   ]
  },
  {
   "cell_type": "code",
   "execution_count": null,
   "id": "55886bc5",
   "metadata": {},
   "outputs": [],
   "source": [
    "import pandas as pd\n",
    "\n",
    "# Example: Load sample data\n",
    "data = {\n",
    "    'id': [1, 2, 3, 4, 5],\n",
    "    'name': ['Alice', 'Bob', 'Charlie', 'David', 'Eve'],\n",
    "    'age': [28, 29, 34, 30, 27],\n",
    "    'department': ['Engineering', 'Sales', 'HR', 'Engineering', 'Marketing'],\n",
    "    'salary': [75000, 64000, 72000, 69000, 60000]\n",
    "}\n",
    "\n",
    "df = pd.DataFrame(data)\n",
    "\n",
    "# Display the DataFrame\n",
    "print('Transformed DataFrame:')\n",
    "df"
   ]
  },
  {
   "cell_type": "markdown",
   "id": "b60685c2",
   "metadata": {},
   "source": [
    "## 1. Save as a New CSV File"
   ]
  },
  {
   "cell_type": "code",
   "execution_count": null,
   "id": "43d8a623",
   "metadata": {},
   "outputs": [],
   "source": [
    "# Save the DataFrame to a CSV file\n",
    "df.to_csv('path/to/cleaned_data.csv', index=False)\n",
    "\n",
    "# Note: Replace 'path/to/cleaned_data.csv' with the desired file path and name."
   ]
  },
  {
   "cell_type": "markdown",
   "id": "31cdb22e",
   "metadata": {},
   "source": [
    "## 2. Save as an Excel File"
   ]
  },
  {
   "cell_type": "code",
   "execution_count": null,
   "id": "dd12855c",
   "metadata": {},
   "outputs": [],
   "source": [
    "# Save the DataFrame to an Excel file\n",
    "df.to_excel('path/to/cleaned_data.xlsx', index=False)\n",
    "\n",
    "# Note: Replace 'path/to/cleaned_data.xlsx' with the desired file path and name.\n",
    "# Requires the 'openpyxl' library, install it if necessary with: pip install openpyxl"
   ]
  },
  {
   "cell_type": "markdown",
   "id": "9a50e46a",
   "metadata": {},
   "source": [
    "## 3. Save to a Database"
   ]
  },
  {
   "cell_type": "code",
   "execution_count": null,
   "id": "3b0acc99",
   "metadata": {},
   "outputs": [],
   "source": [
    "from sqlalchemy import create_engine\n",
    "\n",
    "# Create a SQLite engine; adjust for your database type if needed\n",
    "engine = create_engine('sqlite:///path/to/database.db')\n",
    "\n",
    "# Save the DataFrame to a SQL table called 'cleaned_data'\n",
    "df.to_sql('cleaned_data', engine, index=False, if_exists='replace')\n",
    "\n",
    "# Note: Replace 'sqlite:///path/to/database.db' with the actual database path and name."
   ]
  },
  {
   "cell_type": "markdown",
   "id": "38d6a17e",
   "metadata": {},
   "source": [
    "## 4. Save as a JSON File"
   ]
  },
  {
   "cell_type": "code",
   "execution_count": null,
   "id": "31de9627",
   "metadata": {},
   "outputs": [],
   "source": [
    "# Save the DataFrame to a JSON file\n",
    "df.to_json('path/to/cleaned_data.json', orient='records')\n",
    "\n",
    "# Note: Replace 'path/to/cleaned_data.json' with the desired file path and name.\n",
    "# Setting 'orient=\"records\"' saves each row as a dictionary, making it easy to read in JSON format."
   ]
  },
  {
   "cell_type": "markdown",
   "id": "bdb7fa0c",
   "metadata": {},
   "source": [
    "### Summary\n",
    "Choose the format that best fits your needs:\n",
    "- **CSV or Excel**: Suitable for individual projects or sharing.\n",
    "- **Database**: Ideal for large projects needing a queryable format.\n",
    "- **JSON**: Useful for hierarchical or structured data storage."
   ]
  }
 ],
 "metadata": {},
 "nbformat": 4,
 "nbformat_minor": 5
}
