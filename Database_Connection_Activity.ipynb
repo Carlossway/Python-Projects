{
 "cells": [
  {
   "cell_type": "markdown",
   "id": "94b6a24c",
   "metadata": {},
   "source": [
    "# Database Connection Activity\n",
    "In this activity, you will learn how to connect to a SQLite database and import data into a Pandas DataFrame using SQL queries."
   ]
  },
  {
   "cell_type": "markdown",
   "id": "0ca5936e",
   "metadata": {},
   "source": [
    "## Select Kernel\n",
    "Click on the kernel dropdown (right upper corner) and choose the virtual environment you activated (e.g., .venv)."
   ]
  },
  {
   "cell_type": "code",
   "execution_count": null,
   "id": "b5f50626",
   "metadata": {},
   "outputs": [],
   "source": [
    "import pandas as pd\n",
    "import sqlite3\n",
    "\n",
    "# Connect to the SQLite database\n",
    "conn = sqlite3.connect('../database/sample_database.db')\n",
    "\n",
    "# Write a basic SQL query to retrieve data from the 'employees' table\n",
    "query = 'SELECT * FROM employees'\n",
    "\n",
    "# Load data into a DataFrame\n",
    "df = pd.read_sql_query(query, conn)\n",
    "\n",
    "# Close the database connection\n",
    "conn.close()\n",
    "\n",
    "print('Data from employees table:')\n",
    "df"
   ]
  }
 ],
 "metadata": {
  "kernelspec": {
   "display_name": ".venv",
   "language": "python",
   "name": "python3"
  },
  "language_info": {
   "codemirror_mode": {
    "name": "ipython",
    "version": 3
   },
   "file_extension": ".py",
   "mimetype": "text/x-python",
   "name": "python",
   "nbconvert_exporter": "python",
   "pygments_lexer": "ipython3",
   "version": "3.11.4"
  }
 },
 "nbformat": 4,
 "nbformat_minor": 5
}
